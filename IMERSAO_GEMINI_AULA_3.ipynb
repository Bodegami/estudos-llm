{
  "nbformat": 4,
  "nbformat_minor": 0,
  "metadata": {
    "colab": {
      "provenance": [],
      "authorship_tag": "ABX9TyOvk/FnHnKMKiFfddTySMaW",
      "include_colab_link": true
    },
    "kernelspec": {
      "name": "python3",
      "display_name": "Python 3"
    },
    "language_info": {
      "name": "python"
    }
  },
  "cells": [
    {
      "cell_type": "markdown",
      "metadata": {
        "id": "view-in-github",
        "colab_type": "text"
      },
      "source": [
        "<a href=\"https://colab.research.google.com/github/Bodegami/estudos-llm/blob/imersao_alura_gemini/IMERSAO_GEMINI_AULA_3.ipynb\" target=\"_parent\"><img src=\"https://colab.research.google.com/assets/colab-badge.svg\" alt=\"Open In Colab\"/></a>"
      ]
    },
    {
      "cell_type": "code",
      "execution_count": 7,
      "metadata": {
        "colab": {
          "base_uri": "https://localhost:8080/",
          "height": 54
        },
        "id": "xsPIJA4aA7js",
        "outputId": "ff7a9255-819c-4494-8c6e-3c21daac5ee1"
      },
      "outputs": [
        {
          "output_type": "stream",
          "name": "stdout",
          "text": [
            " Esta é uma página de erro 404. Ela é exibida quando um usuário tenta acessar uma página que não existe. O número 404 significa \"not found\" (não encontrado). A página de erro 404 geralmente inclui uma mensagem de erro e um link para a página inicial do site.\n"
          ]
        }
      ],
      "source": [
        "\"\"\"\n",
        "At the command line, only need to run once to install the package via pip:\n",
        "\n",
        "$ pip install google-generativeai\n",
        "\"\"\"\n",
        "\n",
        "from pathlib import Path\n",
        "import hashlib\n",
        "import google.generativeai as genai\n",
        "from google.colab import userdata\n",
        "\n",
        "GOOGLE_API_KEY = userdata.get('IMERSAO_AULA_3')\n",
        "genai.configure(api_key=GOOGLE_API_KEY)\n",
        "\n",
        "# Set up the model\n",
        "generation_config = {\n",
        "  \"temperature\": 0.5,\n",
        "  \"top_p\": 0.95,\n",
        "  \"top_k\": 32,\n",
        "  \"max_output_tokens\": 1024,\n",
        "}\n",
        "\n",
        "safety_settings = [\n",
        "  {\n",
        "    \"category\": \"HARM_CATEGORY_HARASSMENT\",\n",
        "    \"threshold\": \"BLOCK_MEDIUM_AND_ABOVE\"\n",
        "  },\n",
        "  {\n",
        "    \"category\": \"HARM_CATEGORY_HATE_SPEECH\",\n",
        "    \"threshold\": \"BLOCK_MEDIUM_AND_ABOVE\"\n",
        "  },\n",
        "  {\n",
        "    \"category\": \"HARM_CATEGORY_SEXUALLY_EXPLICIT\",\n",
        "    \"threshold\": \"BLOCK_MEDIUM_AND_ABOVE\"\n",
        "  },\n",
        "  {\n",
        "    \"category\": \"HARM_CATEGORY_DANGEROUS_CONTENT\",\n",
        "    \"threshold\": \"BLOCK_MEDIUM_AND_ABOVE\"\n",
        "  },\n",
        "]\n",
        "\n",
        "model = genai.GenerativeModel(model_name=\"gemini-1.0-pro-vision-latest\",\n",
        "                              generation_config=generation_config,\n",
        "                              safety_settings=safety_settings)\n",
        "\n",
        "prompt_parts = [\n",
        "  \"What object is this? Describe how it might be used and use Brasilian Portuguese language\",\n",
        "  \"Object: \",\n",
        "  genai.upload_file(\"/content/sample_data/ia_test1.jpg\"), # Adicione path da imagem que deseja passar como exemplo\n",
        "  \"Description: This is a pipe organ. It is a large musical instrument that is used in churches, concert halls, and other large buildings. It is made up of a series of pipes that are arranged in different sizes and shapes. The pipes are played by pressing keys on a keyboard. When a key is pressed, air is forced through the pipe, which produces a sound. The sound of a pipe organ is very powerful and can be used to create a wide variety of music.\",\n",
        "  \"Object: \",\n",
        "  genai.upload_file(\"/content/sample_data/ia_test2.jpg\"), # Adicione path da imagem que deseja passar como exemplo\n",
        "  \"Description: This is a sundial. It is a device that uses the sun's position in the sky to tell the time. The sundial has a flat surface with a hole in the center. A metal rod is placed through the hole and is pointed at the North Star. The shadow of the rod falls on the flat surface and indicates the time.\",\n",
        "  \"Object: \",\n",
        "  genai.upload_file(\"/content/sample_data/http_code_404_error.jpg\"), # Adicione path da imagem que deseja consultar\n",
        "  \"Description: \",\n",
        "]\n",
        "\n",
        "response = model.generate_content(prompt_parts)\n",
        "print(response.text)"
      ]
    }
  ]
}