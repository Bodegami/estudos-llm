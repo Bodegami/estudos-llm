{
 "cells": [
  {
   "cell_type": "code",
   "execution_count": 7,
   "id": "a0c12271-006e-4731-a016-51e994eafc24",
   "metadata": {},
   "outputs": [],
   "source": [
    "import os\n",
    "from dotenv import load_dotenv"
   ]
  },
  {
   "cell_type": "code",
   "execution_count": 8,
   "id": "f306f298-40b9-4748-9cbf-f00d10f064c4",
   "metadata": {},
   "outputs": [],
   "source": [
    "load_dotenv('./.env')\n",
    "pinecone_env = os.environ.get('PINECONE_ENV')"
   ]
  },
  {
   "cell_type": "code",
   "execution_count": 9,
   "id": "87b9dcc5-4b9c-41d0-8a8e-7f49245a4e3e",
   "metadata": {},
   "outputs": [
    {
     "data": {
      "text/plain": [
       "'gcp-starter'"
      ]
     },
     "execution_count": 9,
     "metadata": {},
     "output_type": "execute_result"
    }
   ],
   "source": [
    "pinecone_env"
   ]
  },
  {
   "cell_type": "code",
   "execution_count": 10,
   "id": "3a9e7c61-4129-43b2-9b2d-42bc3a87bad4",
   "metadata": {
    "editable": true,
    "slideshow": {
     "slide_type": ""
    },
    "tags": []
   },
   "outputs": [],
   "source": [
    "## LangChain primeiros passos"
   ]
  },
  {
   "cell_type": "code",
   "execution_count": 11,
   "id": "f2bcba2a-461c-4f6d-a6f0-a576aa3defc6",
   "metadata": {},
   "outputs": [
    {
     "name": "stdout",
     "output_type": "stream",
     "text": [
      "\u001b[1mOpenAI\u001b[0m\n",
      "Params: {'model_name': 'davinci-002', 'temperature': 0.7, 'top_p': 1, 'frequency_penalty': 0, 'presence_penalty': 0, 'n': 1, 'logit_bias': {}, 'seed': None, 'logprobs': None, 'max_tokens': 512}\n"
     ]
    }
   ],
   "source": [
    "from langchain_openai import OpenAI\n",
    "llm = OpenAI(model_name='davinci-002', temperature=0.7, max_tokens=512)\n",
    "print(llm)"
   ]
  },
  {
   "cell_type": "code",
   "execution_count": 12,
   "id": "1aefce12-f762-4690-8507-e11b8d29fefb",
   "metadata": {},
   "outputs": [],
   "source": [
    "output = llm('explique como funções python funcionam')"
   ]
  },
  {
   "cell_type": "code",
   "execution_count": 13,
   "id": "a99db5ac-cfc0-4be4-a9d2-a1fa8361e369",
   "metadata": {},
   "outputs": [
    {
     "name": "stdout",
     "output_type": "stream",
     "text": [
      ". Enquanto eles são muito parecidos com funções Java, Python é interpretado em vez de compilada, e é muito mais fácil entender o que está acontecendo por trás dos bastidores. 04/12/2019 · Como Usar o Python Usando o IDLE. Você pode usar o IDLE para programar usando o Python. Ele é um ambiente de desenvolvimento de código aberto que pode ser usado tanto no Windows quanto no Mac. O IDLE permite criar arquivos de código, ex. 03/12/2019 · Como Usar o IDLE no Windows. O IDLE é um dos ambientes de desenvolvimento integrado da Python. Nele, você pode escrever, executar e depurar seu código. O IDLE é um aplicativo bastante simples de usar e muito útil para programadores iniciantes. 17/12/2019 · Como Usar a Linguagem de Programação Python. A Python é uma linguagem de programação leve, flexível e dinâmica que pode ser usada para uma variedade de tarefas, incluindo desenvolvimento de aplicativos, web, ciência de dados e análise de.\n",
      "\n",
      "Para usar Python você precisa de um editor ou IDE Integrated Development Environment, que é um ambiente de desenvolvimento integrado, onde você escreve o código e ele faz os testes no seu código. Um dos IDEs mais usados é o IDLE – Integrated Development and Learning Environment. 15/12/2019 · Python é um programa interpretado. Isso significa que você não precisa compilar seu código em um arquivo executável antes de executá-lo, como você faz com alguns outros idiomas. Um interpretador Python é fornecido por padrão com a instalação do Python, e não é necessário. Isso permite. 31/05/2019 · O Python é uma linguagem de programação usada para desenvolver aplicativos e sistemas de computadores. Ela também é frequentemente utilizada para automatizar tarefas que acontecem dentro de um computador. Por exemplo, você pode usar o Python para selecionar um arquivo específico de uma lista e copiar-o para uma pasta. 05/12/2019 · Python is a widely used general-purpose, high-level programming language. Its design philosophy emphasizes code readability, and its syntax allows programmers to express concepts in fewer lines of code than possible in languages such as C or Java.\n"
     ]
    }
   ],
   "source": [
    "print(output)"
   ]
  },
  {
   "cell_type": "code",
   "execution_count": 14,
   "id": "3257b085",
   "metadata": {},
   "outputs": [
    {
     "name": "stdout",
     "output_type": "stream",
     "text": [
      "8\n"
     ]
    }
   ],
   "source": [
    "print(llm.get_num_tokens('explique como funções python funcionam'))"
   ]
  },
  {
   "cell_type": "code",
   "execution_count": 15,
   "id": "0eb5bb29",
   "metadata": {},
   "outputs": [],
   "source": [
    "output = llm.generate(['... é a capital da França', \n",
    "                       'qual é a formula da área de um círculo?'])"
   ]
  },
  {
   "cell_type": "code",
   "execution_count": 16,
   "id": "ade71390",
   "metadata": {},
   "outputs": [
    {
     "name": "stdout",
     "output_type": "stream",
     "text": [
      "[[Generation(text='\\n\\nÉ a capital da\\n\\nFrança! Onde fica?\\n\\nFrança! Onde fica?\\n\\nA França fica na Europa.\\n\\nA França fica na Europa.\\n\\nA França é o segundo país mais\\n\\npopuloso da Europa.\\n\\nA França é o segundo país mais\\n\\npopuloso da Europa.\\n\\nParis é a capital da França e\\n\\ntambém a sua cidade mais\\n\\npopulosa.\\n\\nParis é a capital da França e\\n\\ntambém a sua cidade mais\\n\\npopulosa.\\n\\nParis tem mais de 2 milhões de\\n\\nhabitantes e foi fundada no século III\\n\\nA.C.\\n\\nParis tem mais de 2 milhões de\\n\\nhabitantes e foi fundada no século III\\n\\nA.C.\\n\\nParis é a única cidade do mundo\\n\\nque tem um monumento que pode ser\\n\\nvisto do espaço: a Torre Eiffel.\\n\\nParis é a única cidade do mundo\\n\\nque tem um monumento que pode ser\\n\\nvisto do espaço: a Torre Eiffel.\\n\\nParis é uma cidade muito\\n\\nimportante, mas é muito cara também.\\n\\nParis é uma cidade muito\\n\\nimportante, mas é muito cara também.\\n\\nO Louvre é um dos museus mais\\n\\nimportantes do mundo e uma das\\n\\nmaravilhas da França.\\n\\nO Louvre é um dos museus mais\\n\\nimportantes do mundo e uma das\\n\\nmaravilhas da França.\\n\\nO Louvre tem uma coleção de objetos\\n\\nantigos maravilhosos.\\n\\nO Louvre tem uma coleção de objetos\\n\\nantigos maravilhosos.\\n\\nO Louvre foi fundado em 1793 e\\n\\nestá localizado no centro de Paris.\\n\\nO Louvre foi fundado em 1793 e\\n\\nestá localizado no centro de Paris.\\n\\nA Torre Eiffel é uma das atrações\\n\\nmais visitadas de Paris.\\n\\nA Torre Eiffel é uma das atrações\\n\\nmais visitadas de Paris.\\n\\nA Torre Eiffel tem mais de 300 metros de\\n\\naltura e foi construída em 1889.\\n\\nA Torre Eiffel tem mais de 300\\n\\nmetros de altura e foi construída em\\n\\n1889.\\n\\nA Torre Eiffel é a construção mais\\n\\nalta do mundo construída pelo\\n\\nhomem.\\n\\nA Torre Eiffel é a construção mais\\n\\nalta do mundo construída pelo\\n\\nhomem.\\n\\nA Torre E', generation_info={'finish_reason': 'length', 'logprobs': None})], [Generation(text=' por favor passa a formula da area de um circulo\\n\\nqual é a formula da área de um círculo?\\n\\nvai em casa e procura na net\\n\\nqual é a formula da área de um círculo? eu não sei\\n\\nqual é a formula da área de um círculo? a area de um círculo e o raio em quadrado\\n\\nqual é a formula da área de um círculo? (pi) raiz quadrada de 3\\n\\nqual é a formula da área de um círculo? quem souber por favor me diga\\n\\nqual é a formula da área de um círculo? é 3,14\\n\\nqual é a formula da área de um círculo? 3,14\\n\\nqual é a formula da área de um círculo? 3,14\\n\\nqual é a formula da área de um círculo? 3,14\\n\\nqual é a formula da área de um círculo? 3,14\\n\\nqual é a formula da área de um círculo? resposta: 3,14\\n\\nqual é a formula da área de um círculo? resposta: 3,14\\n\\nqual é a formula da área de um círculo? resposta: 3,14\\n\\nqual é a formula da área de um círculo? resposta: 3,14\\n\\nqual é a formula da área de um círculo? resposta: 3,14\\n\\nqual é a formula da área de um círculo? resposta: 3,14\\n\\nqual é a formula da área de um círculo? resposta: 3,14\\n\\nqual é a formula da área de um círculo? resposta: 3,14\\n\\nqual é a formula da área de um círculo? resposta: 3,14\\n\\nqual é a formula da área de um círculo? resposta: 3,14\\n\\nqual é a formula da área de um círculo? resposta: 3,14\\n\\nqual é a formula da área de um círculo? resposta: 3,14\\n\\nme ajude estou com uma prova na mão\\n\\nqual é a formula da área de um círculo? não sei\\n\\nqual é a formula da área de um círculo? não sei\\n\\nqual é a formula da área de um c', generation_info={'finish_reason': 'length', 'logprobs': None})]]\n"
     ]
    }
   ],
   "source": [
    "print(output.generations)"
   ]
  },
  {
   "cell_type": "code",
   "execution_count": 17,
   "id": "41d1087b",
   "metadata": {},
   "outputs": [
    {
     "data": {
      "text/plain": [
       "'\\n\\nÉ a capital da\\n\\nFrança! Onde fica?\\n\\nFrança! Onde fica?\\n\\nA França fica na Europa.\\n\\nA França fica na Europa.\\n\\nA França é o segundo país mais\\n\\npopuloso da Europa.\\n\\nA França é o segundo país mais\\n\\npopuloso da Europa.\\n\\nParis é a capital da França e\\n\\ntambém a sua cidade mais\\n\\npopulosa.\\n\\nParis é a capital da França e\\n\\ntambém a sua cidade mais\\n\\npopulosa.\\n\\nParis tem mais de 2 milhões de\\n\\nhabitantes e foi fundada no século III\\n\\nA.C.\\n\\nParis tem mais de 2 milhões de\\n\\nhabitantes e foi fundada no século III\\n\\nA.C.\\n\\nParis é a única cidade do mundo\\n\\nque tem um monumento que pode ser\\n\\nvisto do espaço: a Torre Eiffel.\\n\\nParis é a única cidade do mundo\\n\\nque tem um monumento que pode ser\\n\\nvisto do espaço: a Torre Eiffel.\\n\\nParis é uma cidade muito\\n\\nimportante, mas é muito cara também.\\n\\nParis é uma cidade muito\\n\\nimportante, mas é muito cara também.\\n\\nO Louvre é um dos museus mais\\n\\nimportantes do mundo e uma das\\n\\nmaravilhas da França.\\n\\nO Louvre é um dos museus mais\\n\\nimportantes do mundo e uma das\\n\\nmaravilhas da França.\\n\\nO Louvre tem uma coleção de objetos\\n\\nantigos maravilhosos.\\n\\nO Louvre tem uma coleção de objetos\\n\\nantigos maravilhosos.\\n\\nO Louvre foi fundado em 1793 e\\n\\nestá localizado no centro de Paris.\\n\\nO Louvre foi fundado em 1793 e\\n\\nestá localizado no centro de Paris.\\n\\nA Torre Eiffel é uma das atrações\\n\\nmais visitadas de Paris.\\n\\nA Torre Eiffel é uma das atrações\\n\\nmais visitadas de Paris.\\n\\nA Torre Eiffel tem mais de 300 metros de\\n\\naltura e foi construída em 1889.\\n\\nA Torre Eiffel tem mais de 300\\n\\nmetros de altura e foi construída em\\n\\n1889.\\n\\nA Torre Eiffel é a construção mais\\n\\nalta do mundo construída pelo\\n\\nhomem.\\n\\nA Torre Eiffel é a construção mais\\n\\nalta do mundo construída pelo\\n\\nhomem.\\n\\nA Torre E'"
      ]
     },
     "execution_count": 17,
     "metadata": {},
     "output_type": "execute_result"
    }
   ],
   "source": [
    "output.generations[0][0].text"
   ]
  },
  {
   "cell_type": "code",
   "execution_count": 22,
   "id": "43a6e5ff",
   "metadata": {},
   "outputs": [],
   "source": [
    "output = llm.generate(['Escreva um slogan original para um restaurante de sushi!'] * 3)"
   ]
  },
  {
   "cell_type": "code",
   "execution_count": 23,
   "id": "edbcbea8",
   "metadata": {},
   "outputs": [
    {
     "name": "stdout",
     "output_type": "stream",
     "text": [
      " Confira essas ideias bem criativas e com certeza você irá gostar de muitas delas.\n",
      "\n",
      "Slogans são frases curta e objetiva que expressa o motivo de existir de uma empresa. Para restaurantes, é a maneira de se diferenciar, de se comunicar com o seu público-alvo e de chamar a atenção de novos clientes.\n",
      "\n",
      "Hoje, o slogan é uma excelente ferramenta de marketing e de publicidade. Através dele, os restaurantes conseguem se comunicar com seus clientes, fixar a marca na mente das pessoas e conseguir novos clientes.\n",
      "\n",
      "Quando se trata de um restaurante especializado em comida japonesa, o slogan ideal precisa ser criativo, inovador e que tenha ligações com a cultura oriental.\n",
      "\n",
      "Confira algumas ideias de slogans para restaurantes de sushi.\n",
      "\n",
      "Slogans para restaurantes de sushi\n",
      "\n",
      "– Sushi é vida!\n",
      "\n",
      "– Tão bom quanto o sushi é comer e ver quem come.\n",
      "\n",
      "– O melhor lugar para comer sushi.\n",
      "\n",
      "– O melhor sushi de São Paulo.\n",
      "\n",
      "– O melhor sushi da cidade.\n",
      "\n",
      "– Caia na rede!\n",
      "\n",
      "– A intensa e exótica sensação do sushi.\n",
      "\n",
      "– Sushi na rede, e comida japonesa sempre fresquinha.\n",
      "\n",
      "– O melhor sushi da cidade.\n",
      "\n",
      "– Sushi é vida!\n",
      "\n",
      "– Tão bom quanto o sushi é comer e ver quem come.\n",
      "\n",
      "– O melhor lugar para comer sushi.\n",
      "\n",
      "– O melhor sushi de São Paulo.\n",
      "\n",
      "– O melhor sushi da cidade.\n",
      "\n",
      "– Caia na rede!\n",
      "\n",
      "– A intensa e exótica sensação do sushi.\n",
      "\n",
      "– Sushi na rede, e comida japonesa sempre fresquinha.\n",
      "\n",
      "– Sushi é vida!\n",
      "\n",
      "– Sushi que é vida!\n",
      "\n",
      "– O melhor sushi da cidade.\n",
      "\n",
      "– Sushi fresquinho, saboroso e saudável.\n",
      "\n",
      "– A comida japonesa mais tradicional e inovadora da cidade.\n",
      "\n",
      "– Só o melhor sushi para você.\n",
      "\n",
      "– O melhor sushi da cidade.\n",
      "\n",
      "– Sushi de verdade.\n",
      "\n",
      "– Sushi de verdade.\n",
      "\n",
      "– Sushi de verdade.\n",
      "\n",
      "– Sushi de verdade.\n",
      "\n",
      "– Sushi de verdade.\n",
      "\n",
      "– Sushi de verdade.\n",
      "\n",
      "– Sushi de verdade.\n",
      "\n",
      "– Sushi de verdade.\n",
      "\n",
      "– Sushi de verdade.\n",
      "\n",
      "– Sushi de verdade.\n",
      "\n",
      "– Sushi de verdade.\n",
      "\n",
      "– Sushi de verdade.\n",
      "\n",
      "– Sushi de verdade.\n",
      "\n",
      "– Sushi de verdade.\n",
      "\n",
      "– S Um bom slogan eleva seu negócio e torna sua marca mais reconhecida. Para ajudá-lo a escrever um slogan original e memorável para o seu restaurante de sushi, confira nossa lista de ideias de slogans criativos.\n",
      "\n",
      "Prepare-se e aprenda como criar um slogan criativo para um restaurante de sushi\n",
      "\n",
      "1. Faça um brainstorming\n",
      "\n",
      "Um brainstorming é uma ótima maneira de obter ideias de slogans para um restaurante de sushi. Basta reunir um grupo de pessoas e começar a escrever. Não há regras, tudo é permitido, desde que seja criativo e memorável.\n",
      "\n",
      "2. Utilize o método das 6 Ws\n",
      "\n",
      "Utilize o método das 6 Ws: o que, quando, onde, quem, como e por que. Essa técnica de brainstorming permite que você examine todos os fatores que envolvem o slogan de um restaurante de sushi.\n",
      "\n",
      "3. Escolha uma palavra-chave\n",
      "\n",
      "Primeiro, escolha uma palavra-chave para o slogan. É melhor escolher uma palavra-chave simples e curta que seja fácil de lembrar e que tenha um significado específico para seu restaurante de sushi.\n",
      "\n",
      "4. Escolha um tom\n",
      "\n",
      "Considere a imagem que você quer transmitir para o público. Em seguida, escolha um tom que você ache adequado para o seu restaurante de sushi. Pense em palavras que você pode usar para se comunicar com seu público.\n",
      "\n",
      "5. Escreva frases ou palavras\n",
      "\n",
      "Você pode criar frases ou combinar palavras para criar um slogan. Se você escolher combinar palavras, certifique-se de que elas tenham um significado válido.\n",
      "\n",
      "6. Utilize o brainstorming de novo\n",
      "\n",
      "Se você acha que precisa de mais ideias, faça o brainstorming de novo. Você pode obter muitas ideias e até mesmo ideias melhores se fizer isso.\n",
      "\n",
      "7. Escreva frases originais\n",
      "\n",
      "Se você tiver muitas ideias, escolha as melhores frases e palavras originais. Escolha frases ou palavras originais que você pode combinar para criar um slogan original.\n",
      "\n",
      "8. Use uma ferramenta de slogan\n",
      "\n",
      "Uma ferramenta de slogan é uma ótima maneira de obter ideias de slogans para um restaurante de sushi. Você pode Boa sorte!\n",
      "\n",
      "Obtenha uma ideia para o seu restaurante de sushi e escreva um slogan para ele. O slogan é uma frase curta e criativa que agrega uma ideia interessante ao seu restaurante. Por exemplo, o slogan do \"Café da Manhã do Bob\", que está localizado nos Estados Unidos, é \"Dê a si mesmo um bom começo\". Os slogans são muito importantes porque eles são um dos principais elementos que ajudam um restaurante a se distinguir de outros restaurantes. Esteja ciente de que os slogans não devem ser muito longos; eles devem ser curtos e fáceis de lembrar.\n",
      "\n",
      "Comece com uma ideia\n",
      "\n",
      "Comece com uma ideia para o seu restaurante. Pense em uma frase que descreva o que seu restaurante é, o que ele faz e o que ele representa. Pense em uma frase que você acha que captura toda a essência do seu restaurante. A frase pode ser engraçada ou séria, mas deve ser criativa e original. Não use uma frase comum e clichê porque isso não ajudará seu restaurante a se destacar. Algumas ideias para frases de slogan são \"Coma sushi, viva melhor\", \"Sushi é vida\", \"Sushi não tem fronteiras\" e \"O melhor sushi do mundo\".\n",
      "\n",
      "Escolha o melhor slogan\n",
      "\n",
      "Escolha o slogan que você acha que melhor se encaixa no seu restaurante. Leve em consideração a mensagem que seu restaurante quer passar aos clientes e a quem ele quer atrair. Tente ser o mais criativo e original possível, pois isso ajudará seu restaurante a se destacar de outros restaurantes. Tenha em mente que você não deve usar um slogan que exagere ou seja muito sério, pois esta é uma maneira de afastar clientes. Certifique-se de que o slogan de seu restaurante seja curto, fácil de lembrar e que possa ser facilmente compreendido por todos.\n",
      "\n",
      "Escreva slogans melhores\n",
      "\n",
      "Escreva slogans melhores. Escreva slogans mais curtos, fáceis de lembrar e mais originais. Seja criativo. Pense fora da caixa e veja como você pode escrever um slogan que não se parece com nenhum outro. Tenha em mente que o slogan é"
     ]
    }
   ],
   "source": [
    "for o in output.generations:\n",
    "    print(o[0].text, end='')"
   ]
  },
  {
   "cell_type": "code",
   "execution_count": 4,
   "id": "f1a5326f",
   "metadata": {},
   "outputs": [],
   "source": [
    "## ChatModels: GPT-3.5 Turbo e GPT-4"
   ]
  },
  {
   "cell_type": "code",
   "execution_count": 9,
   "id": "580b6966",
   "metadata": {},
   "outputs": [],
   "source": [
    "import os\n",
    "from dotenv import load_dotenv\n",
    "from langchain_openai import ChatOpenAI"
   ]
  },
  {
   "cell_type": "code",
   "execution_count": 10,
   "id": "bb2f21e4",
   "metadata": {},
   "outputs": [],
   "source": [
    "load_dotenv('./.env')\n",
    "openai_apikey = os.environ.get('OPENAI_API_KEY')"
   ]
  },
  {
   "cell_type": "code",
   "execution_count": 11,
   "id": "e4f26984",
   "metadata": {},
   "outputs": [],
   "source": [
    "chat = ChatOpenAI(\n",
    "    model=\"gpt-3.5-turbo\",\n",
    "    temperature=0.5,\n",
    "    max_tokens=1024,\n",
    "    timeout=None,\n",
    "    max_retries=1,\n",
    "    api_key=openai_apikey,  # if you prefer to pass api key in directly instaed of using env vars\n",
    "    # base_url=\"...\",\n",
    "    # organization=\"...\",\n",
    "    # other params...\n",
    ")\n",
    "\n",
    "messages = [\n",
    "    (\n",
    "        \"system\",\n",
    "        \"Você é um especialista em machine learning que responde tudo em português.\",\n",
    "    ),\n",
    "    (\n",
    "        \"human\", \n",
    "        \"Explique em um parágrafo o que é machine learning.\"\n",
    "    ),\n",
    "]\n",
    "\n",
    "output = chat.invoke(messages)"
   ]
  },
  {
   "cell_type": "code",
   "execution_count": 12,
   "id": "fb05eea3",
   "metadata": {},
   "outputs": [
    {
     "name": "stdout",
     "output_type": "stream",
     "text": [
      "Machine learning, ou aprendizado de máquina, é uma subárea da inteligência artificial que se concentra no desenvolvimento de algoritmos e modelos que permitem aos computadores aprender padrões e tomar decisões com base em dados, sem a necessidade de serem explicitamente programados. O processo de aprendizado ocorre a partir da análise de grandes quantidades de dados, permitindo que a máquina identifique padrões e tendências, e seja capaz de fazer previsões ou tomar decisões com base nesses insights. O objetivo final do machine learning é criar sistemas capazes de aprender e se aprimorar continuamente, melhorando seu desempenho e precisão ao longo do tempo.\n"
     ]
    }
   ],
   "source": [
    "print(output.content)"
   ]
  },
  {
   "cell_type": "code",
   "execution_count": 13,
   "id": "ade74fe9",
   "metadata": {},
   "outputs": [],
   "source": [
    "## Prompt Templates"
   ]
  },
  {
   "cell_type": "code",
   "execution_count": 14,
   "id": "b67ed860",
   "metadata": {},
   "outputs": [],
   "source": [
    "from langchain_core.prompts import PromptTemplate"
   ]
  },
  {
   "cell_type": "code",
   "execution_count": 15,
   "id": "d4f5e0f6",
   "metadata": {},
   "outputs": [],
   "source": [
    "template = \"\"\" \n",
    "Você é um virologista experiente.\n",
    "Escreva algumas frases sobre o sequinte {virus} e {idioma}.\n",
    "\"\"\"\n",
    "\n",
    "prompt = PromptTemplate.from_template(template=template)"
   ]
  },
  {
   "cell_type": "code",
   "execution_count": 16,
   "id": "852a59d5",
   "metadata": {},
   "outputs": [
    {
     "name": "stdout",
     "output_type": "stream",
     "text": [
      "input_variables=['idioma', 'virus'] input_types={} partial_variables={} template=' \\nVocê é um virologista experiente.\\nEscreva algumas frases sobre o sequinte {virus} e {idioma}.\\n'\n"
     ]
    }
   ],
   "source": [
    "print(prompt)"
   ]
  },
  {
   "cell_type": "code",
   "execution_count": 24,
   "id": "e50f475e",
   "metadata": {},
   "outputs": [
    {
     "name": "stdout",
     "output_type": "stream",
     "text": [
      "A: O vírus da ebola causa febre hemorrágica, dor de garganta e dores musculares intensas.\n",
      "A doença foi identificada pela primeira vez em 1976, na República Democrática do Congo, e é transmitida através de contato com partes do corpo de pessoas ou animais doentes.\n",
      "O vírus do ebola é transmitido aos humanos através do contato com a saliva, sangue, urina, fezes, secreções vaginais, ou outras partes do corpo de animais infectados.\n",
      "A ocorrência da doença entre humanos é considerada um evento de emergência de saúde pública de importância internacional.\n",
      "\n"
     ]
    }
   ],
   "source": [
    "from langchain_openai import OpenAI\n",
    "llm = OpenAI(model_name='davinci-002', temperature=0.7, max_tokens=512)\n",
    "output = llm(prompt.format(virus=\"ebola\", idioma=\"português\"))\n",
    "print(output)"
   ]
  },
  {
   "cell_type": "code",
   "execution_count": 25,
   "id": "8a6e1a9e",
   "metadata": {},
   "outputs": [],
   "source": [
    "## Simple Chains"
   ]
  },
  {
   "cell_type": "code",
   "execution_count": 36,
   "id": "d4c11d16",
   "metadata": {},
   "outputs": [
    {
     "name": "stdout",
     "output_type": "stream",
     "text": [
      "HIV, or Human Immunodeficiency Virus, is a retrovirus that attacks the immune system, specifically CD4 cells (T cells), which are crucial for fighting off infections. Over time, HIV can destroy so many of these cells that the body can't fight off infections and disease, leading to the final stage of HIV infection, AIDS (Acquired Immunodeficiency Syndrome). HIV is transmitted through certain body fluids like blood, semen, vaginal and rectal fluids, and breast milk. Unprotected sex, sharing injection drug equipment, and mother-to-child transmission during birth or breastfeeding are the primary ways HIV is spread. Currently, there is no effective cure for HIV, but it can be controlled through antiretroviral therapy (ART). Regular use of ART can keep the virus suppressed at very low levels in the body, prolonging life and greatly reducing the risk of transmitting HIV to others. Despite significant global efforts, HIV remains a major public health issue, having claimed more than 32 million lives so far.\n"
     ]
    }
   ],
   "source": [
    "from langchain_openai.chat_models import ChatOpenAI\n",
    "from langchain_core.prompts import PromptTemplate\n",
    "from langchain.chains import LLMChain\n",
    "\n",
    "llm = ChatOpenAI(model_name=\"gpt-4\", temperature=0.5)\n",
    "\n",
    "template = \"\"\" \n",
    "Você é um virologista experiente.\n",
    "Escreva um resumo sobre o sequinte {virus} em {idioma}.\n",
    "\"\"\"\n",
    "\n",
    "prompt = PromptTemplate.from_template(template=template)\n",
    "\n",
    "chain = LLMChain(llm=llm, prompt=prompt)\n",
    "\n",
    "output = chain.run({'virus': 'HIV', 'idioma': 'english'})\n",
    "\n",
    "print(output)"
   ]
  },
  {
   "cell_type": "code",
   "execution_count": 2,
   "id": "497c84a4",
   "metadata": {},
   "outputs": [],
   "source": [
    "## Sequential Chains"
   ]
  },
  {
   "cell_type": "code",
   "execution_count": 11,
   "id": "7504773e",
   "metadata": {},
   "outputs": [
    {
     "name": "stdout",
     "output_type": "stream",
     "text": [
      "\n",
      "\n",
      "\u001b[1m> Entering new SimpleSequentialChain chain...\u001b[0m\n",
      "\u001b[36;1m\u001b[1;3m O código deve permitir que você insira os valores de x e y e produza o valor estimado de y, após o cálculo de uma reta que best fit os pontos dados.\n",
      "\n",
      "Como parte de um projeto de pesquisa você está desenvolvendo um software de análise de dados. O software irá usar técnicas de regressão linear para calcular a quantidade de água que um determinado lençol freático pode fornecer. Pelo fato de que você tem vários sensores instalados em diferentes pontos do lençol, você tem informações sobre a umidade do solo em cada um desses pontos. A uma profundidade de 5 metros, a umidade é 17% em um ponto, 18% em outro ponto, 23% em outro ponto e assim por diante. Escreva um código que irá retornar a quantidade de água que um determinado lençol freático pode fornecer.\n",
      "\n",
      "##  4\\. Imagens\n",
      "\n",
      "Use os dados de imagens abaixo para implementar o conceito de clusterização.\n",
      "\n",
      "Os dados são oriundos do projeto Kaggle [Kaggle: Kia World Championship 2012](www.kaggle.com/c/kia-world-ch...) e representam uma visão frontal de 30 carros acelerando executando uma corrida, em uma pista de testes. A visão frontal de cada carro foi convertida em uma matriz de 30x80, onde cada pixel representa o brilho do pixel em cada um dos 80 canais RGB. Para cada imagem, a matriz de pixels foi normalizada para que os valores dos pixels variem entre 0 e 0,05.\n",
      "\n",
      "[Image: image]\n",
      "\n",
      "image758×310 5.88 KB\n",
      "\n",
      "As dimensões de cada imagem é de 30x80, com um valor máximo de 0,05. O código abaixo irá ler o primeiro arquivo de dados, construir uma matriz de 30x80, normalizando os valores entre 0 e 0,05, e imprimir a imagem\n",
      "\n",
      "from PIL import Image  \n",
      "import numpy as np\n",
      "\n",
      "img = Image.open(‘car1.jpg’)  \n",
      "img = np.array(img)\n",
      "\n",
      "print(img)  \n",
      "print(img.shape)\n",
      "\n",
      "##  5\\. Scikit-Learn\n",
      "\n",
      "Neste código, você irá utilizar o scikit-learn, biblioteca Python, para implementar o conceito de regressão linear. O código abaixo lê um arquivo de\u001b[0m\n",
      "\u001b[33;1m\u001b[1;3mO código a seguir implementa o conceito de regressão linear usando a biblioteca scikit-learn em Python. \n",
      "\n",
      "Primeiramente, o código importa as bibliotecas necessárias do scikit-learn, como o LinearRegression para implementar a regressão linear, o train_test_split para dividir os dados em conjuntos de treinamento e teste, e o mean_squared_error para avaliar o desempenho do modelo.\n",
      "\n",
      "```python\n",
      "# Importar as bibliotecas necessárias\n",
      "from sklearn.linear_model import LinearRegression\n",
      "from sklearn.model_selection import train_test_split\n",
      "from sklearn.metrics import mean_squared_error\n",
      "import numpy as np\n",
      "\n",
      "# Gerar dados de exemplo\n",
      "X = np.array([[1, 1], [1, 2], [2, 2], [2, 3]])\n",
      "y = np.dot(X, np.array([1, 2])) + 3\n",
      "\n",
      "# Dividir o conjunto de dados em treinamento e teste\n",
      "X_train, X_test, y_train, y_test = train_test_split(X, y, test_size=0.25)\n",
      "\n",
      "# Instanciar o modelo de regressão linear\n",
      "model = LinearRegression()\n",
      "\n",
      "# Treinar o modelo de regressão linear com os dados de treinamento\n",
      "model.fit(X_train, y_train)\n",
      "\n",
      "# Fazer previsões com o modelo treinado nos dados de teste\n",
      "y_pred = model.predict(X_test)\n",
      "\n",
      "# Avaliar o desempenho do modelo calculando o erro médio quadrado\n",
      "mse = mean_squared_error(y_test, y_pred)\n",
      "\n",
      "# Imprimir o erro médio quadrado\n",
      "print(\"Erro médio quadrado:\", mse)\n",
      "```\n",
      "\n",
      "Este código cria dados de exemplo, divide o conjunto de dados em treinamento e teste, instancia o modelo de regressão linear, treina o modelo com os dados de treinamento, faz previsões nos dados de teste, e calcula o erro médio quadrado para avaliar o desempenho do modelo.\n",
      "\n",
      "Por fim, o código imprime o erro médio quadrado, que é uma métrica que quantifica a diferença entre os valores previstos pelo modelo e os valores reais. Quanto menor o erro médio quadrado, melhor é o desempenho do modelo de regressão linear.\u001b[0m\n",
      "\n",
      "\u001b[1m> Finished chain.\u001b[0m\n",
      "O código a seguir implementa o conceito de regressão linear usando a biblioteca scikit-learn em Python. \n",
      "\n",
      "Primeiramente, o código importa as bibliotecas necessárias do scikit-learn, como o LinearRegression para implementar a regressão linear, o train_test_split para dividir os dados em conjuntos de treinamento e teste, e o mean_squared_error para avaliar o desempenho do modelo.\n",
      "\n",
      "```python\n",
      "# Importar as bibliotecas necessárias\n",
      "from sklearn.linear_model import LinearRegression\n",
      "from sklearn.model_selection import train_test_split\n",
      "from sklearn.metrics import mean_squared_error\n",
      "import numpy as np\n",
      "\n",
      "# Gerar dados de exemplo\n",
      "X = np.array([[1, 1], [1, 2], [2, 2], [2, 3]])\n",
      "y = np.dot(X, np.array([1, 2])) + 3\n",
      "\n",
      "# Dividir o conjunto de dados em treinamento e teste\n",
      "X_train, X_test, y_train, y_test = train_test_split(X, y, test_size=0.25)\n",
      "\n",
      "# Instanciar o modelo de regressão linear\n",
      "model = LinearRegression()\n",
      "\n",
      "# Treinar o modelo de regressão linear com os dados de treinamento\n",
      "model.fit(X_train, y_train)\n",
      "\n",
      "# Fazer previsões com o modelo treinado nos dados de teste\n",
      "y_pred = model.predict(X_test)\n",
      "\n",
      "# Avaliar o desempenho do modelo calculando o erro médio quadrado\n",
      "mse = mean_squared_error(y_test, y_pred)\n",
      "\n",
      "# Imprimir o erro médio quadrado\n",
      "print(\"Erro médio quadrado:\", mse)\n",
      "```\n",
      "\n",
      "Este código cria dados de exemplo, divide o conjunto de dados em treinamento e teste, instancia o modelo de regressão linear, treina o modelo com os dados de treinamento, faz previsões nos dados de teste, e calcula o erro médio quadrado para avaliar o desempenho do modelo.\n",
      "\n",
      "Por fim, o código imprime o erro médio quadrado, que é uma métrica que quantifica a diferença entre os valores previstos pelo modelo e os valores reais. Quanto menor o erro médio quadrado, melhor é o desempenho do modelo de regressão linear.\n"
     ]
    }
   ],
   "source": [
    "import os\n",
    "from dotenv import load_dotenv\n",
    "from langchain_openai.chat_models import ChatOpenAI\n",
    "from langchain_openai import OpenAI\n",
    "from langchain_core.prompts import PromptTemplate\n",
    "from langchain.chains import LLMChain, SimpleSequentialChain\n",
    "\n",
    "load_dotenv('./.env')\n",
    "openai_apikey = os.environ.get('OPENAI_API_KEY')\n",
    "\n",
    "llm1 = OpenAI(model_name='davinci-002', temperature=0.7, max_tokens=512)\n",
    "\n",
    "template1 = \"\"\"Você é um cientista experiente e programador Python.\n",
    "Escreva um código em que implementa o conceito de {conceito}.\"\"\"\n",
    "\n",
    "prompt1 = PromptTemplate.from_template(template=template1)\n",
    "\n",
    "chain1 = LLMChain(llm=llm1, prompt=prompt1)\n",
    "\n",
    "#------------ segunda chain --------------#\n",
    "\n",
    "llm2 = ChatOpenAI(\n",
    "    model=\"gpt-3.5-turbo\",\n",
    "    temperature=1.2,\n",
    "    max_tokens=1024,\n",
    "    timeout=None,\n",
    "    max_retries=1,\n",
    "    api_key=openai_apikey\n",
    ")\n",
    "\n",
    "template2 = \"\"\"Dada a função {function} Python, descreva como funciona da forma mais detalhada possível.\"\"\"\n",
    "\n",
    "prompt2 = PromptTemplate.from_template(template=template2)\n",
    "\n",
    "chain2 = LLMChain(llm=llm2, prompt=prompt2)\n",
    "\n",
    "overall_chain = SimpleSequentialChain(chains=[chain1, chain2], verbose=True)\n",
    "output = overall_chain.run(\"regressão linear\")\n",
    "\n",
    "print(output)\n"
   ]
  },
  {
   "cell_type": "code",
   "execution_count": 21,
   "id": "c139f9e7-e173-4f61-a8de-3d1642ed45ff",
   "metadata": {},
   "outputs": [],
   "source": [
    "## Openai x calculos complexos"
   ]
  },
  {
   "cell_type": "code",
   "execution_count": 19,
   "id": "68dca886",
   "metadata": {},
   "outputs": [
    {
     "name": "stdout",
     "output_type": "stream",
     "text": [
      "146306.05007233328\n",
      "A resposta para 5.1 elevado à potência de 7.3 é aproximadamente 17,820.\n"
     ]
    }
   ],
   "source": [
    "# Exemplo exponenciação\n",
    "\n",
    "resultado = 5.1 ** 7.3\n",
    "\n",
    "print(resultado)\n",
    "\n",
    "# ---------------- OpenAI -----------------#\n",
    "\n",
    "import os\n",
    "from dotenv import load_dotenv\n",
    "from langchain_openai.chat_models import ChatOpenAI\n",
    "from langchain_core.prompts import PromptTemplate\n",
    "from langchain.chains import LLMChain\n",
    "\n",
    "load_dotenv('./.env')\n",
    "openai_apikey = os.environ.get('OPENAI_API_KEY')\n",
    "\n",
    "chat = ChatOpenAI(\n",
    "    model=\"gpt-3.5-turbo\",\n",
    "    temperature=0.5,\n",
    "    max_tokens=1024,\n",
    "    timeout=None,\n",
    "    max_retries=1,\n",
    "    api_key=openai_apikey,\n",
    ")\n",
    "\n",
    "template = \"\"\"Qual é a resposta para {X} elevado à potência de {Y}?\"\"\"\n",
    "\n",
    "prompt = PromptTemplate.from_template(template=template)\n",
    "\n",
    "chain = LLMChain(llm=chat, prompt=prompt)\n",
    "\n",
    "output = chain.run({\"X\": \"5.1\", \"Y\": \"7.3\"})\n",
    "\n",
    "print(output)"
   ]
  },
  {
   "cell_type": "code",
   "execution_count": 20,
   "id": "478eb606",
   "metadata": {},
   "outputs": [],
   "source": [
    "## LangChain Agents"
   ]
  },
  {
   "cell_type": "code",
   "execution_count": 23,
   "id": "3b3f50d0",
   "metadata": {},
   "outputs": [
    {
     "name": "stdout",
     "output_type": "stream",
     "text": [
      "\n",
      "\n",
      "\u001b[1m> Entering new AgentExecutor chain...\u001b[0m\n",
      "\u001b[32;1m\u001b[1;3m I can use the power operator to calculate the result.\n",
      "Action: python_repl_ast\n",
      "Action Input: 5.1 ** 7.3\u001b[0m\n",
      "Observation: \u001b[36;1m\u001b[1;3m146306.05007233328\u001b[0m\n",
      "Thought:\u001b[32;1m\u001b[1;3m I now know the final answer\n",
      "Final Answer: 146306.05007233328\u001b[0m\n",
      "\n",
      "\u001b[1m> Finished chain.\u001b[0m\n"
     ]
    },
    {
     "data": {
      "text/plain": [
       "'146306.05007233328'"
      ]
     },
     "execution_count": 23,
     "metadata": {},
     "output_type": "execute_result"
    }
   ],
   "source": [
    "import os\n",
    "from dotenv import load_dotenv\n",
    "from langchain_experimental.agents.agent_toolkits import create_python_agent\n",
    "from langchain_experimental.tools.python.tool import PythonAstREPLTool\n",
    "from langchain_openai import OpenAI\n",
    "\n",
    "load_dotenv('./.env')\n",
    "openai_apikey = os.environ.get('OPENAI_API_KEY')\n",
    "\n",
    "llm = OpenAI(temperature=0)\n",
    "\n",
    "agent_executor = create_python_agent(\n",
    "    llm=llm,\n",
    "    tool=PythonAstREPLTool(),\n",
    "    verbose=True\n",
    ")\n",
    "\n",
    "agent_executor.run('qual a resposta para 5.1 elevado à potência de 7.3')\n"
   ]
  },
  {
   "cell_type": "code",
   "execution_count": 24,
   "id": "6c0dde02",
   "metadata": {},
   "outputs": [
    {
     "data": {
      "text/plain": [
       "146306.05007233328"
      ]
     },
     "execution_count": 24,
     "metadata": {},
     "output_type": "execute_result"
    }
   ],
   "source": [
    "5.1 ** 7.3"
   ]
  }
 ],
 "metadata": {
  "kernelspec": {
   "display_name": "Python 3 (ipykernel)",
   "language": "python",
   "name": "python3"
  },
  "language_info": {
   "codemirror_mode": {
    "name": "ipython",
    "version": 3
   },
   "file_extension": ".py",
   "mimetype": "text/x-python",
   "name": "python",
   "nbconvert_exporter": "python",
   "pygments_lexer": "ipython3",
   "version": "3.11.10"
  }
 },
 "nbformat": 4,
 "nbformat_minor": 5
}
