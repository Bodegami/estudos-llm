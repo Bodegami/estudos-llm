{
 "cells": [
  {
   "cell_type": "code",
   "execution_count": 2,
   "id": "e02e0303-4c33-4bc0-a595-4e8141aaf05d",
   "metadata": {},
   "outputs": [],
   "source": [
    "nome = 'renato'"
   ]
  },
  {
   "cell_type": "code",
   "execution_count": 3,
   "id": "fcf41b9c-46f2-4ee5-b5b8-10feaaa92e22",
   "metadata": {},
   "outputs": [
    {
     "data": {
      "text/plain": [
       "'renato'"
      ]
     },
     "execution_count": 3,
     "metadata": {},
     "output_type": "execute_result"
    }
   ],
   "source": [
    "nome"
   ]
  },
  {
   "cell_type": "code",
   "execution_count": 4,
   "id": "ee5c3cc8-27f6-43e7-8805-36f30edaa8c4",
   "metadata": {},
   "outputs": [
    {
     "data": {
      "text/plain": [
       "72"
      ]
     },
     "execution_count": 4,
     "metadata": {},
     "output_type": "execute_result"
    }
   ],
   "source": [
    "27 + 45"
   ]
  },
  {
   "cell_type": "code",
   "execution_count": 5,
   "id": "a22b7d39-7c46-4345-a8dd-186dee343dd1",
   "metadata": {},
   "outputs": [],
   "source": [
    "## Testando JupyterLab dentro do Windows"
   ]
  },
  {
   "cell_type": "code",
   "execution_count": null,
   "id": "e5fbc42f-de66-40f9-a0ef-29c295bd507e",
   "metadata": {},
   "outputs": [],
   "source": []
  }
 ],
 "metadata": {
  "kernelspec": {
   "display_name": "Python 3 (ipykernel)",
   "language": "python",
   "name": "python3"
  },
  "language_info": {
   "codemirror_mode": {
    "name": "ipython",
    "version": 3
   },
   "file_extension": ".py",
   "mimetype": "text/x-python",
   "name": "python",
   "nbconvert_exporter": "python",
   "pygments_lexer": "ipython3",
   "version": "3.11.10"
  }
 },
 "nbformat": 4,
 "nbformat_minor": 5
}
