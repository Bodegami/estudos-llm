{
  "nbformat": 4,
  "nbformat_minor": 0,
  "metadata": {
    "colab": {
      "provenance": [],
      "authorship_tag": "ABX9TyM8bb6qRSuFPX/stSKm08RM",
      "include_colab_link": true
    },
    "kernelspec": {
      "name": "python3",
      "display_name": "Python 3"
    },
    "language_info": {
      "name": "python"
    }
  },
  "cells": [
    {
      "cell_type": "markdown",
      "metadata": {
        "id": "view-in-github",
        "colab_type": "text"
      },
      "source": [
        "<a href=\"https://colab.research.google.com/github/Bodegami/estudos-llm/blob/imersao_alura_gemini/IMERSAO_GEMINI_AULA_4.ipynb\" target=\"_parent\"><img src=\"https://colab.research.google.com/assets/colab-badge.svg\" alt=\"Open In Colab\"/></a>"
      ]
    },
    {
      "cell_type": "code",
      "execution_count": 1,
      "metadata": {
        "id": "CwlLjt4IkEXz"
      },
      "outputs": [],
      "source": [
        "!pip install -q -U google-generativeai"
      ]
    },
    {
      "cell_type": "code",
      "source": [
        "import google.generativeai as genai\n",
        "from google.colab import userdata\n",
        "\n",
        "GOOGLE_API_KEY = userdata.get(\"IMERSAO_AULA_4\")\n",
        "genai.configure(api_key=GOOGLE_API_KEY)"
      ],
      "metadata": {
        "id": "WqO8ny1z2L0f"
      },
      "execution_count": 19,
      "outputs": []
    },
    {
      "cell_type": "markdown",
      "source": [
        "Listar os modelos disponiveis"
      ],
      "metadata": {
        "id": "QvQByK5L2oa6"
      }
    },
    {
      "cell_type": "code",
      "source": [
        "for m in genai.list_models():\n",
        "  if 'generateContent' in m.supported_generation_methods:\n",
        "    print(m.name)"
      ],
      "metadata": {
        "colab": {
          "base_uri": "https://localhost:8080/",
          "height": 139
        },
        "id": "_zVD3CRc2slu",
        "outputId": "0dabee97-47d5-4639-9ffa-2d242a60f629"
      },
      "execution_count": 3,
      "outputs": [
        {
          "output_type": "stream",
          "name": "stdout",
          "text": [
            "models/gemini-1.0-pro\n",
            "models/gemini-1.0-pro-001\n",
            "models/gemini-1.0-pro-latest\n",
            "models/gemini-1.0-pro-vision-latest\n",
            "models/gemini-1.5-pro-latest\n",
            "models/gemini-pro\n",
            "models/gemini-pro-vision\n"
          ]
        }
      ]
    },
    {
      "cell_type": "markdown",
      "source": [
        "Criando as variaveis de configuração do modelo"
      ],
      "metadata": {
        "id": "98ZEAzre40UV"
      }
    },
    {
      "cell_type": "code",
      "source": [
        "generation_config = {\n",
        "    \"candidate_count\": 1,\n",
        "    \"temperature\": 0.5\n",
        "}"
      ],
      "metadata": {
        "id": "qYyd-jUa3x9-"
      },
      "execution_count": 4,
      "outputs": []
    },
    {
      "cell_type": "code",
      "source": [
        "safety_settings = {\n",
        "    \"HARASSMENT\": \"BLOCK_NONE\",\n",
        "    \"HATE\": \"BLOCK_NONE\",\n",
        "    \"SEXUAL\": \"BLOCK_NONE\",\n",
        "    \"DANGEROUS\": \"BLOCK_NONE\"\n",
        "}"
      ],
      "metadata": {
        "id": "1XfH7idT4IvC"
      },
      "execution_count": 5,
      "outputs": []
    },
    {
      "cell_type": "markdown",
      "source": [
        "Inicializando o modelo"
      ],
      "metadata": {
        "id": "53TsJbTQ4862"
      }
    },
    {
      "cell_type": "code",
      "source": [
        "model = genai.GenerativeModel(model_name=\"gemini-1.0-pro\",\n",
        "                              generation_config=generation_config,\n",
        "                              safety_settings=safety_settings)"
      ],
      "metadata": {
        "id": "yM1fXq4U4_Sm"
      },
      "execution_count": 6,
      "outputs": []
    },
    {
      "cell_type": "code",
      "source": [
        "response = model.generate_content(\"Vamos aprender conteúdo sobre IA. Me dê sugestões.\")\n",
        "print(f'Resposta completa: \\n {response}')\n",
        "print(\"\\n---------------------------------------\\n \")\n",
        "print(f\"Resposta Filtrada: \\n {response.text}\")"
      ],
      "metadata": {
        "colab": {
          "base_uri": "https://localhost:8080/",
          "height": 957
        },
        "id": "7ssPsVIf5i82",
        "outputId": "def1f340-714a-4dfa-9cdb-46bb3cdfb848"
      },
      "execution_count": 9,
      "outputs": [
        {
          "output_type": "stream",
          "name": "stdout",
          "text": [
            "Resposta completa: \n",
            " response:\n",
            "GenerateContentResponse(\n",
            "    done=True,\n",
            "    iterator=None,\n",
            "    result=glm.GenerateContentResponse({'candidates': [{'content': {'parts': [{'text': '**Introdução à Inteligência Artificial (IA)**\\n\\n* O que é IA?\\n* Tipos de IA (por exemplo, aprendizado de máquina, aprendizado profundo)\\n* Aplicações da IA em vários setores\\n\\n**Aprendizado de Máquina (ML)**\\n\\n* Conceitos básicos de ML (por exemplo, dados, modelos, treinamento)\\n* Algoritmos de ML supervisionados (por exemplo, regressão, classificação)\\n* Algoritmos de ML não supervisionados (por exemplo, agrupamento, redução de dimensionalidade)\\n\\n**Aprendizado Profundo (DL)**\\n\\n* Redes neurais e seus tipos (por exemplo, CNNs, RNNs)\\n* Arquiteturas de rede comuns (por exemplo, ResNet, Inception)\\n* Treinamento e avaliação de modelos de DL\\n\\n**Processamento de Linguagem Natural (PNL)**\\n\\n* Conceitos básicos de PNL (por exemplo, tokenização, análise sintática)\\n* Modelos de linguagem (por exemplo, BERT, GPT-3)\\n* Aplicações de PNL (por exemplo, tradução automática, resumo de texto)\\n\\n**Visão Computacional (CV)**\\n\\n* Conceitos básicos de CV (por exemplo, reconhecimento de objetos, segmentação de imagens)\\n* Técnicas de processamento de imagem (por exemplo, convolução, pooling)\\n* Aplicações de CV (por exemplo, reconhecimento facial, veículos autônomos)\\n\\n**Ética e Implicações Sociais da IA**\\n\\n* Preocupações éticas com o uso da IA (por exemplo, viés, privacidade)\\n* Implicações sociais da IA (por exemplo, automação do trabalho, desigualdade)\\n* Princípios orientadores para o uso responsável da IA\\n\\n**Recursos Adicionais**\\n\\n* Cursos online (por exemplo, Coursera, edX)\\n* Livros e artigos de pesquisa\\n* Comunidades e fóruns online\\n* Conferências e workshops'}], 'role': 'model'}, 'finish_reason': 1, 'index': 0, 'safety_ratings': [{'category': 9, 'probability': 1, 'blocked': False}, {'category': 8, 'probability': 1, 'blocked': False}, {'category': 7, 'probability': 1, 'blocked': False}, {'category': 10, 'probability': 1, 'blocked': False}], 'token_count': 0, 'grounding_attributions': []}]}),\n",
            ")\n",
            "\n",
            "---------------------------------------\n",
            " \n",
            "Resposta Filtrada: \n",
            " **Introdução à Inteligência Artificial (IA)**\n",
            "\n",
            "* O que é IA?\n",
            "* Tipos de IA (por exemplo, aprendizado de máquina, aprendizado profundo)\n",
            "* Aplicações da IA em vários setores\n",
            "\n",
            "**Aprendizado de Máquina (ML)**\n",
            "\n",
            "* Conceitos básicos de ML (por exemplo, dados, modelos, treinamento)\n",
            "* Algoritmos de ML supervisionados (por exemplo, regressão, classificação)\n",
            "* Algoritmos de ML não supervisionados (por exemplo, agrupamento, redução de dimensionalidade)\n",
            "\n",
            "**Aprendizado Profundo (DL)**\n",
            "\n",
            "* Redes neurais e seus tipos (por exemplo, CNNs, RNNs)\n",
            "* Arquiteturas de rede comuns (por exemplo, ResNet, Inception)\n",
            "* Treinamento e avaliação de modelos de DL\n",
            "\n",
            "**Processamento de Linguagem Natural (PNL)**\n",
            "\n",
            "* Conceitos básicos de PNL (por exemplo, tokenização, análise sintática)\n",
            "* Modelos de linguagem (por exemplo, BERT, GPT-3)\n",
            "* Aplicações de PNL (por exemplo, tradução automática, resumo de texto)\n",
            "\n",
            "**Visão Computacional (CV)**\n",
            "\n",
            "* Conceitos básicos de CV (por exemplo, reconhecimento de objetos, segmentação de imagens)\n",
            "* Técnicas de processamento de imagem (por exemplo, convolução, pooling)\n",
            "* Aplicações de CV (por exemplo, reconhecimento facial, veículos autônomos)\n",
            "\n",
            "**Ética e Implicações Sociais da IA**\n",
            "\n",
            "* Preocupações éticas com o uso da IA (por exemplo, viés, privacidade)\n",
            "* Implicações sociais da IA (por exemplo, automação do trabalho, desigualdade)\n",
            "* Princípios orientadores para o uso responsável da IA\n",
            "\n",
            "**Recursos Adicionais**\n",
            "\n",
            "* Cursos online (por exemplo, Coursera, edX)\n",
            "* Livros e artigos de pesquisa\n",
            "* Comunidades e fóruns online\n",
            "* Conferências e workshops\n"
          ]
        }
      ]
    },
    {
      "cell_type": "markdown",
      "source": [
        "Criando um chatbot"
      ],
      "metadata": {
        "id": "1pbkdwTC6ash"
      }
    },
    {
      "cell_type": "code",
      "source": [
        "chat = model.start_chat(history=[])"
      ],
      "metadata": {
        "id": "dGnaP3Rs6e36"
      },
      "execution_count": 15,
      "outputs": []
    },
    {
      "cell_type": "code",
      "source": [
        "prompt = input(\"Esperando o prompt...\")\n",
        "\n",
        "while prompt != \"fim\":\n",
        "  response = chat.send_message(prompt)\n",
        "  print(\"Resposta: \\n\", response.text, \"\\n\")\n",
        "  prompt = input(\"Esperando o prompt...\")"
      ],
      "metadata": {
        "colab": {
          "base_uri": "https://localhost:8080/",
          "height": 677
        },
        "id": "YlVymKEP6wt5",
        "outputId": "77ca0828-1ca3-4ed9-b016-a33445fa99d3"
      },
      "execution_count": 16,
      "outputs": [
        {
          "name": "stdout",
          "output_type": "stream",
          "text": [
            "Esperando o prompt...Me informe por onde devo começar os meus estudos sobre IA?\n",
            "Resposta: \n",
            " **Introdução à Inteligência Artificial (IA)**\n",
            "\n",
            "* **Cursos online:** Coursera, edX, Udacity\n",
            "* **Livros:** \"Inteligência Artificial: Uma Abordagem Moderna\" (Stuart Russell e Peter Norvig), \"Inteligência Artificial: Um Guia Moderno\" (Melanie Mitchell)\n",
            "\n",
            "**Fundamentos da Ciência da Computação**\n",
            "\n",
            "* **Linguagens de programação:** Python, Java, C++\n",
            "* **Estruturas de dados:** Listas, pilhas, árvores\n",
            "* **Algoritmos:** Ordenação, pesquisa, recursão\n",
            "\n",
            "**Matemática para IA**\n",
            "\n",
            "* **Álgebra linear:** Matrizes, vetores, espaços vetoriais\n",
            "* **Cálculo:** Derivadas, integrais, otimização\n",
            "* **Probabilidade e estatística:** Distribuições de probabilidade, inferência estatística\n",
            "\n",
            "**Técnicas de Aprendizado de Máquina**\n",
            "\n",
            "* **Aprendizado supervisionado:** Regressão, classificação\n",
            "* **Aprendizado não supervisionado:** Agrupamento, redução de dimensionalidade\n",
            "* **Aprendizado profundo:** Redes neurais, convoluções\n",
            "\n",
            "**Aplicações da IA**\n",
            "\n",
            "* **Visão computacional:** Reconhecimento de objetos, processamento de imagens\n",
            "* **Processamento de linguagem natural:** Reconhecimento de fala, tradução automática\n",
            "* **Robótica:** Navegação, planejamento de movimento\n",
            "\n",
            "**Recursos Adicionais**\n",
            "\n",
            "* **Comunidades online:** Reddit (r/artificial), Discord (servidores de IA)\n",
            "* **Conferências e workshops:** NeurIPS, ICML, AAAI\n",
            "* **Revistas científicas:** Journal of Machine Learning Research, IEEE Transactions on Neural Networks and Learning Systems \n",
            "\n",
            "Esperando o prompt...fim\n"
          ]
        }
      ]
    },
    {
      "cell_type": "markdown",
      "source": [
        "Melhorando a visualização"
      ],
      "metadata": {
        "id": "D4RklzOT8QZ_"
      }
    },
    {
      "cell_type": "code",
      "source": [
        "#Melhorando a visualização\n",
        "#Código disponível em https://ai.google.dev/tutorials/python_quickstart#import_packages\n",
        "\n",
        "import textwrap\n",
        "from IPython.display import display\n",
        "from IPython.display import Markdown\n",
        "\n",
        "def to_markdown(text: str):\n",
        "  text = text.replace('•', '  *')\n",
        "  return Markdown(textwrap.indent(text, '> ', predicate=lambda _: True))\n",
        "\n",
        "#Imprimindo o histórico\n",
        "for message in chat.history:\n",
        "  display(to_markdown(f'**{message.role}**: {message.parts[0].text}'))\n",
        "  print(\"----------------------------------------------------------\")"
      ],
      "metadata": {
        "colab": {
          "base_uri": "https://localhost:8080/",
          "height": 608
        },
        "id": "kC-GHQoC8R62",
        "outputId": "c8dae682-7955-4db0-c748-8508973bf987"
      },
      "execution_count": 17,
      "outputs": [
        {
          "output_type": "display_data",
          "data": {
            "text/plain": [
              "<IPython.core.display.Markdown object>"
            ],
            "text/markdown": "> **user**: Me informe por onde devo começar os meus estudos sobre IA?"
          },
          "metadata": {}
        },
        {
          "output_type": "stream",
          "name": "stdout",
          "text": [
            "----------------------------------------------------------\n"
          ]
        },
        {
          "output_type": "display_data",
          "data": {
            "text/plain": [
              "<IPython.core.display.Markdown object>"
            ],
            "text/markdown": "> **model**: **Introdução à Inteligência Artificial (IA)**\n> \n> * **Cursos online:** Coursera, edX, Udacity\n> * **Livros:** \"Inteligência Artificial: Uma Abordagem Moderna\" (Stuart Russell e Peter Norvig), \"Inteligência Artificial: Um Guia Moderno\" (Melanie Mitchell)\n> \n> **Fundamentos da Ciência da Computação**\n> \n> * **Linguagens de programação:** Python, Java, C++\n> * **Estruturas de dados:** Listas, pilhas, árvores\n> * **Algoritmos:** Ordenação, pesquisa, recursão\n> \n> **Matemática para IA**\n> \n> * **Álgebra linear:** Matrizes, vetores, espaços vetoriais\n> * **Cálculo:** Derivadas, integrais, otimização\n> * **Probabilidade e estatística:** Distribuições de probabilidade, inferência estatística\n> \n> **Técnicas de Aprendizado de Máquina**\n> \n> * **Aprendizado supervisionado:** Regressão, classificação\n> * **Aprendizado não supervisionado:** Agrupamento, redução de dimensionalidade\n> * **Aprendizado profundo:** Redes neurais, convoluções\n> \n> **Aplicações da IA**\n> \n> * **Visão computacional:** Reconhecimento de objetos, processamento de imagens\n> * **Processamento de linguagem natural:** Reconhecimento de fala, tradução automática\n> * **Robótica:** Navegação, planejamento de movimento\n> \n> **Recursos Adicionais**\n> \n> * **Comunidades online:** Reddit (r/artificial), Discord (servidores de IA)\n> * **Conferências e workshops:** NeurIPS, ICML, AAAI\n> * **Revistas científicas:** Journal of Machine Learning Research, IEEE Transactions on Neural Networks and Learning Systems"
          },
          "metadata": {}
        },
        {
          "output_type": "stream",
          "name": "stdout",
          "text": [
            "----------------------------------------------------------\n"
          ]
        }
      ]
    }
  ]
}