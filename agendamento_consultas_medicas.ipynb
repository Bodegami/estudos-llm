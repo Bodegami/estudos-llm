{
  "nbformat": 4,
  "nbformat_minor": 0,
  "metadata": {
    "colab": {
      "provenance": [],
      "authorship_tag": "ABX9TyNE4LoY+C4A2iZXaAUeOY4A",
      "include_colab_link": true
    },
    "kernelspec": {
      "name": "python3",
      "display_name": "Python 3"
    },
    "language_info": {
      "name": "python"
    }
  },
  "cells": [
    {
      "cell_type": "markdown",
      "metadata": {
        "id": "view-in-github",
        "colab_type": "text"
      },
      "source": [
        "<a href=\"https://colab.research.google.com/github/Bodegami/estudos-llm/blob/main/agendamento_consultas_medicas.ipynb\" target=\"_parent\"><img src=\"https://colab.research.google.com/assets/colab-badge.svg\" alt=\"Open In Colab\"/></a>"
      ]
    },
    {
      "cell_type": "markdown",
      "source": [
        "Instalando as dependências"
      ],
      "metadata": {
        "id": "gkwx9BSkeUEv"
      }
    },
    {
      "cell_type": "code",
      "execution_count": 10,
      "metadata": {
        "id": "9p5dnCTWGJ8R",
        "colab": {
          "base_uri": "https://localhost:8080/"
        },
        "outputId": "dd3b047d-8d47-48f9-ee79-09cae6306ba0"
      },
      "outputs": [
        {
          "output_type": "stream",
          "name": "stdout",
          "text": [
            "\u001b[2K     \u001b[90m━━━━━━━━━━━━━━━━━━━━━━━━━━━━━━━━━━━━━━━━\u001b[0m \u001b[32m3.5/3.5 MB\u001b[0m \u001b[31m16.1 MB/s\u001b[0m eta \u001b[36m0:00:00\u001b[0m\n",
            "\u001b[2K     \u001b[90m━━━━━━━━━━━━━━━━━━━━━━━━━━━━━━━━━━━━━━━━\u001b[0m \u001b[32m15.8/15.8 MB\u001b[0m \u001b[31m52.5 MB/s\u001b[0m eta \u001b[36m0:00:00\u001b[0m\n",
            "\u001b[?25h"
          ]
        }
      ],
      "source": [
        "!pip install -q -U google-generativeai PyMuPDF"
      ]
    },
    {
      "cell_type": "markdown",
      "source": [
        "Executando os imports e recuperando a secret"
      ],
      "metadata": {
        "id": "irnUSlsReg7v"
      }
    },
    {
      "cell_type": "code",
      "source": [
        "import google.generativeai as genai\n",
        "import fitz\n",
        "from google.colab import userdata\n",
        "\n",
        "\n",
        "GOOGLE_API_KEY=userdata.get('GOOGLE_GEMINI_API_KEY')\n",
        "genai.configure(api_key=GOOGLE_API_KEY)"
      ],
      "metadata": {
        "id": "X3ltA9c3HWyG"
      },
      "execution_count": 13,
      "outputs": []
    },
    {
      "cell_type": "markdown",
      "source": [
        "Criando uma função para extrair dados do .pdf"
      ],
      "metadata": {
        "id": "Q1CcThBGen_w"
      }
    },
    {
      "cell_type": "code",
      "source": [
        "def extract_text_from_pdf(pdf_path):\n",
        "  \"\"\"Extrai o texto de um arquivo PDF.\n",
        "\n",
        "  Args:\n",
        "    pdf_path: Caminho para o arquivo PDF.\n",
        "\n",
        "  Returns:\n",
        "    O texto extraído do PDF.\n",
        "  \"\"\"\n",
        "  doc = fitz.open(pdf_path)\n",
        "  text = \"\"\n",
        "  for page in doc:\n",
        "    text += page.get_text()\n",
        "  return text\n",
        "\n",
        "# Exemplo de uso\n",
        "texto_extraido = extract_text_from_pdf(\"/content/medicos-horarios-geral.pdf\")\n",
        "print(texto_extraido)"
      ],
      "metadata": {
        "id": "7NfyLFl6HdAy"
      },
      "execution_count": null,
      "outputs": []
    },
    {
      "cell_type": "markdown",
      "source": [
        "Criando as variaveis com as configurações do gemini"
      ],
      "metadata": {
        "id": "uG8RpkB6ezgl"
      }
    },
    {
      "cell_type": "code",
      "source": [
        "safety_settings = [\n",
        "  {\n",
        "    \"category\": \"HARM_CATEGORY_HARASSMENT\",\n",
        "    \"threshold\": \"BLOCK_MEDIUM_AND_ABOVE\"\n",
        "  },\n",
        "  {\n",
        "    \"category\": \"HARM_CATEGORY_HATE_SPEECH\",\n",
        "    \"threshold\": \"BLOCK_MEDIUM_AND_ABOVE\"\n",
        "  },\n",
        "  {\n",
        "    \"category\": \"HARM_CATEGORY_SEXUALLY_EXPLICIT\",\n",
        "    \"threshold\": \"BLOCK_MEDIUM_AND_ABOVE\"\n",
        "  },\n",
        "  {\n",
        "    \"category\": \"HARM_CATEGORY_DANGEROUS_CONTENT\",\n",
        "    \"threshold\": \"BLOCK_MEDIUM_AND_ABOVE\"\n",
        "  },\n",
        "]\n",
        "\n",
        "generation_config = {\n",
        "  \"temperature\": 1,\n",
        "  \"top_p\": 0.65,\n",
        "  \"top_k\": 0,\n",
        "  \"max_output_tokens\": 8192,\n",
        "}\n",
        "\n",
        "system_instruction = \"\"\"\n",
        "Aja como secretária um rede de clinicas médicas.\n",
        "Quando o usuário solicitar um agendamento, faça a busca nessa planilha e retorne os médicos com horários disponíveis que estão na planilha.\n",
        "Você em hipótese alguma deve retornar informações de outros pacientes.\n",
        "Você deve se limitar a utilizar somente a planilha para verificar a disponibilidade dos médicos.\n",
        "Antes de encerrar qualquer agendamento, confirme se o usuário você pode ajudar o usuário com mais alguma informação.\n",
        "\"\"\""
      ],
      "metadata": {
        "id": "XzFynOJiODql"
      },
      "execution_count": 58,
      "outputs": []
    },
    {
      "cell_type": "markdown",
      "source": [
        "Criando o modelo"
      ],
      "metadata": {
        "id": "DbfGz0c3fA6I"
      }
    },
    {
      "cell_type": "code",
      "source": [
        "model = genai.GenerativeModel(model_name=\"gemini-1.5-pro-latest\",\n",
        "                              generation_config=generation_config,\n",
        "                              system_instruction=system_instruction,\n",
        "                              safety_settings=safety_settings)"
      ],
      "metadata": {
        "id": "FDeAymf9OUkZ"
      },
      "execution_count": 52,
      "outputs": []
    },
    {
      "cell_type": "markdown",
      "source": [
        "Enviando o contexto para modelo"
      ],
      "metadata": {
        "id": "quFfh68GfOuW"
      }
    },
    {
      "cell_type": "code",
      "source": [
        "chat = model.start_chat(history=[\n",
        "  {\n",
        "    \"role\": \"user\",\n",
        "    \"parts\": texto_extraido\n",
        "  }\n",
        "])"
      ],
      "metadata": {
        "id": "FYRZtM_WNwGu"
      },
      "execution_count": 53,
      "outputs": []
    },
    {
      "cell_type": "markdown",
      "source": [
        "Execução do programa"
      ],
      "metadata": {
        "id": "cI0_1MoMfV4e"
      }
    },
    {
      "cell_type": "code",
      "source": [
        "prompt = input(\"Olá! 👋 Sou a secretária virtual da rede de clínicas. Como posso lhe ajudar?\\n\\n\")\n",
        "\n",
        "while prompt != \"fim\":\n",
        "  response = chat.send_message(prompt)\n",
        "  print(response.text)\n",
        "  print(\"\\n\\n\")\n",
        "  prompt = input(\"\")\n",
        "  print(\"\\n\\n\")"
      ],
      "metadata": {
        "colab": {
          "base_uri": "https://localhost:8080/",
          "height": 1000
        },
        "id": "qNEhRRIfN9WH",
        "outputId": "14dfcc1f-7984-463b-ffcf-0dff5ad5f230"
      },
      "execution_count": 57,
      "outputs": [
        {
          "output_type": "stream",
          "name": "stdout",
          "text": [
            "Olá! 👋 Sou a secretária virtual da rede de clínicas. Como posso lhe ajudar?\n",
            "\n",
            "gostaria de agendar um dermatologia\n",
            "Ok, vamos agendar sua consulta com um dermatologista! 😊\n",
            "\n",
            "Temos o Dr. Costa disponível. \n",
            "\n",
            "Qual dia e horário você prefere? 😉\n",
            "\n",
            "Para te ajudar, veja os horários disponíveis com o Dr. Costa:\n",
            "\n",
            "* **Quarta-feira:** 08:00 - 09:00, 09:00 - 10:00, 10:00 - 11:00 na Clínica Saúde & Vida (Av. Regente Feijó, 1900).\n",
            "* **Quinta-feira:** 08:30 - 09:30 e 10:00 - 11:00 na Clínica Nova Vida (Av. Giovanni Gronchi, 8100).\n",
            "* **Segunda-feira:** 13:30 - 14:30 no Hospital Santa Maria (Rua das Flores, 400). \n",
            "\n",
            " Aguardo sua escolha! 😉 \n",
            "\n",
            "\n",
            "\n",
            "\n",
            "segunda-feira\n",
            "\n",
            "\n",
            "\n",
            "Ok, segunda-feira com o Dr. Costa no Hospital Santa Maria (Rua das Flores, 400), às 13:30 - 14:30.\n",
            "\n",
            "Confirmando seus dados para o agendamento:\n",
            "\n",
            "* **Dia:** Segunda-feira\n",
            "* **Horário:** 13:30 - 14:30\n",
            "* **Médico:** Dr. Costa (Dermatologista)\n",
            "* **Local:** Hospital Santa Maria (Rua das Flores, 400)\n",
            "\n",
            "Está correto? 😊\n",
            "\n",
            "Por favor, me informe seu nome completo para finalizarmos o agendamento. 😉\n",
            "\n",
            "\n",
            "\n",
            "maria das dores\n",
            "\n",
            "\n",
            "\n",
            "Perfeito, Maria das Dores! 😊\n",
            "\n",
            "Sua consulta com o Dr. Costa (Dermatologista) está agendada para segunda-feira, às 13:30 - 14:30 no Hospital Santa Maria (Rua das Flores, 400).\n",
            "\n",
            "Lembre-se de chegar com 15 minutos de antecedência para realizar sua ficha. 😉\n",
            "\n",
            "Há mais alguma informação que eu possa te ajudar? 😊\n",
            "\n",
            "\n",
            "\n",
            "\n",
            "gostaria de agendar dentista\n",
            "\n",
            "\n",
            "\n",
            "Sinto muito, Maria, mas no momento não temos dentistas disponíveis na nossa rede de clínicas. 😔\n",
            "\n",
            "Você gostaria de verificar a disponibilidade com outro especialista? 😊\n",
            "\n",
            "Ou prefere que eu anote seu contato para avisá-la caso abra alguma vaga com um dentista? 😉\n",
            "\n",
            "Aguardo sua resposta! 😊\n",
            "\n",
            "\n",
            "\n",
            "\n",
            "não, tudo bem! Muito obrigado\n",
            "\n",
            "\n",
            "\n",
            "Ok Maria! 😊\n",
            "\n",
            "Fico à disposição caso precise de algo mais. \n",
            "\n",
            "Tenha um ótimo dia! 😉 \n",
            "\n",
            "\n",
            "\n",
            "\n",
            "fim\n",
            "\n",
            "\n",
            "\n"
          ]
        }
      ]
    }
  ]
}