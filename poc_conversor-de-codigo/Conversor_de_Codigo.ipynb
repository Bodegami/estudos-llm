{
  "cells": [
    {
      "cell_type": "markdown",
      "metadata": {
        "id": "view-in-github",
        "colab_type": "text"
      },
      "source": [
        "<a href=\"https://colab.research.google.com/github/Bodegami/estudos-llm/blob/conversor_de_codigo/Conversor_de_Codigo.ipynb\" target=\"_parent\"><img src=\"https://colab.research.google.com/assets/colab-badge.svg\" alt=\"Open In Colab\"/></a>"
      ]
    },
    {
      "cell_type": "code",
      "execution_count": 1,
      "metadata": {
        "id": "pNKnpPy9S5Bv"
      },
      "outputs": [],
      "source": [
        "!pip install -q -U google-generativeai"
      ]
    },
    {
      "cell_type": "code",
      "execution_count": 2,
      "metadata": {
        "id": "Hp2tk_FcS9i4"
      },
      "outputs": [],
      "source": [
        "import google.generativeai as genai\n",
        "from google.colab import userdata\n",
        "\n",
        "GOOGLE_API_KEY = userdata.get(\"GOOGLE_GEMINI_API_KEY\")\n",
        "genai.configure(api_key=GOOGLE_API_KEY)"
      ]
    },
    {
      "cell_type": "code",
      "execution_count": 3,
      "metadata": {
        "id": "IXCOdAXyS_zg"
      },
      "outputs": [],
      "source": [
        "generation_config = {\n",
        "    \"candidate_count\": 1,\n",
        "    \"temperature\": 0.2\n",
        "}"
      ]
    },
    {
      "cell_type": "code",
      "execution_count": 4,
      "metadata": {
        "id": "FRDXvM3lTKer"
      },
      "outputs": [],
      "source": [
        "safety_settings = {\n",
        "    \"HARASSMENT\": \"BLOCK_NONE\",\n",
        "    \"HATE\": \"BLOCK_NONE\",\n",
        "    \"SEXUAL\": \"BLOCK_NONE\",\n",
        "    \"DANGEROUS\": \"BLOCK_NONE\"\n",
        "}"
      ]
    },
    {
      "cell_type": "code",
      "execution_count": 5,
      "metadata": {
        "id": "LRlJpQiWTMjC"
      },
      "outputs": [],
      "source": [
        "model = genai.GenerativeModel(model_name=\"gemini-1.0-pro\",\n",
        "                              generation_config=generation_config,\n",
        "                              safety_settings=safety_settings)"
      ]
    },
    {
      "cell_type": "code",
      "execution_count": 6,
      "metadata": {
        "id": "IsXZRtNkTPl3"
      },
      "outputs": [],
      "source": [
        "chat = model.start_chat(history=[])"
      ]
    },
    {
      "cell_type": "code",
      "execution_count": 11,
      "metadata": {
        "colab": {
          "base_uri": "https://localhost:8080/",
          "height": 1000
        },
        "id": "fbqaFOZbUE-S",
        "outputId": "694cd0f1-f323-46b0-c013-9a6286646fbe"
      },
      "outputs": [
        {
          "name": "stdout",
          "output_type": "stream",
          "text": [
            "Esperando o prompt...@Service public class CadastroService {      @Autowired     private ClienteRepository clienteRepository;      @Autowired     private ViaCepHttp viaCepHttp;        @Async     @Transactional     public void executeAsincrono(ClienteRequest request) {         long inicio = System.currentTimeMillis();          Cliente cliente = toModel(request);         clienteRepository.save(cliente);          long fim = System.currentTimeMillis();         System.out.println(\"Execucao async em \" + (fim - inicio) + \" ms\");     }  package br.com.bode.springasync.cadastro.service;  import br.com.bode.springasync.cadastro.dto.ClienteRequest; import br.com.bode.springasync.cadastro.dto.ClienteResponse; import br.com.bode.springasync.cadastro.model.Cliente; import br.com.bode.springasync.cadastro.model.Endereco; import br.com.bode.springasync.cadastro.repository.ClienteRepository; import br.com.bode.springasync.external.ViaCepHttp.ViaCepHttp; import org.springframework.beans.factory.annotation.Autowired; import org.springframework.scheduling.annotation.Async; import org.springframework.stereotype.Service; import org.springframework.transaction.annotation.Transactional;  import java.util.List; import java.util.stream.Collectors;  @Service public class CadastroService {      @Autowired     private ClienteRepository clienteRepository;      @Autowired     private ViaCepHttp viaCepHttp;        @Async     @Transactional     public void executeAsincrono(ClienteRequest request) {         long inicio = System.currentTimeMillis();          Cliente cliente = toModel(request);         clienteRepository.save(cliente);          long fim = System.currentTimeMillis();         System.out.println(\"Execucao async em \" + (fim - inicio) + \" ms\");     }      @Transactional     public void executeSincrono(ClienteRequest request) {         long inicio = System.currentTimeMillis();          Cliente cliente = toModel(request);         clienteRepository.save(cliente);          long fim = System.currentTimeMillis();         System.out.println(\"Execucao sync em \" + (fim - inicio) + \" ms\");     }       private Cliente toModel(ClienteRequest request) {         return new Cliente(                 request.getNome(),                 request.getSobrenome(),                 request.getTelefone(),                 getEndereco(request.getCep())         );     }      private Endereco getEndereco(String cep) {         try {             return viaCepHttp.execute(cep);         }         catch (Exception e) {             throw new RuntimeException(\"Error ao buscar endereco: \" + e.getMessage());         }     }      public List<ClienteResponse> findAll() {         List<Cliente> clientes = clienteRepository.findAll();         return clientes.stream().map(ClienteResponse::new).collect(Collectors.toList());     }      private ClienteResponse toResponse(Cliente cliente) {         return new ClienteResponse(cliente);     }  }  Linguagem: kotlin Framework: Micronaut\n",
            "```kotlin\n",
            "import io.micronaut.http.annotation.Body\n",
            "import io.micronaut.http.annotation.Controller\n",
            "import io.micronaut.http.annotation.Post\n",
            "import io.micronaut.scheduling.annotation.Async\n",
            "import io.micronaut.transaction.annotation.Transactional\n",
            "import javax.inject.Inject\n",
            "\n",
            "@Controller(\"/cadastro\")\n",
            "class CadastroController(@Inject val clienteRepository: ClienteRepository,\n",
            "                         @Inject val viaCepHttp: ViaCepHttp) {\n",
            "\n",
            "    @Post(\"/assincrono\")\n",
            "    @Async\n",
            "    @Transactional\n",
            "    fun executeAssincrono(@Body request: ClienteRequest) {\n",
            "        val inicio = System.currentTimeMillis()\n",
            "\n",
            "        val cliente = toModel(request)\n",
            "        clienteRepository.save(cliente)\n",
            "\n",
            "        val fim = System.currentTimeMillis()\n",
            "        println(\"Execução assíncrona em ${fim - inicio} ms\")\n",
            "    }\n",
            "\n",
            "    @Post(\"/sincrono\")\n",
            "    @Transactional\n",
            "    fun executeSincrono(@Body request: ClienteRequest) {\n",
            "        val inicio = System.currentTimeMillis()\n",
            "\n",
            "        val cliente = toModel(request)\n",
            "        clienteRepository.save(cliente)\n",
            "\n",
            "        val fim = System.currentTimeMillis()\n",
            "        println(\"Execução síncrona em ${fim - inicio} ms\")\n",
            "    }\n",
            "\n",
            "    private fun toModel(request: ClienteRequest): Cliente {\n",
            "        return Cliente(\n",
            "            nome = request.nome,\n",
            "            sobrenome = request.sobrenome,\n",
            "            telefone = request.telefone,\n",
            "            endereco = getEndereco(request.cep)\n",
            "        )\n",
            "    }\n",
            "\n",
            "    private fun getEndereco(cep: String): Endereco {\n",
            "        try {\n",
            "            return viaCepHttp.execute(cep)\n",
            "        } catch (e: Exception) {\n",
            "            throw RuntimeException(\"Erro ao buscar endereço: ${e.message}\")\n",
            "        }\n",
            "    }\n",
            "\n",
            "    @Get(\"/\")\n",
            "    fun findAll(): List<ClienteResponse> {\n",
            "        val clientes = clienteRepository.findAll()\n",
            "        return clientes.map { ClienteResponse(it) }\n",
            "    }\n",
            "\n",
            "    private fun toResponse(cliente: Cliente): ClienteResponse {\n",
            "        return ClienteResponse(cliente)\n",
            "    }\n",
            "}\n",
            "```\n",
            "Esperando o prompt...fim\n"
          ]
        }
      ],
      "source": [
        "system = \"\"\"\n",
        "  Considere que você é um especialista em programação.\n",
        "  Você deve traduzir o script de um código para outra linguagem de escolha do usuário.\n",
        "  Os usuários da plataforma vão te enviar o script do código e também vão te informar em qual linguagem você deve converter.\n",
        "  Em alguns cenários, os usuários também vão te enviar o framework para usar junto com a linguagem.\n",
        "\n",
        "  Exemplo:\n",
        "\n",
        "  User:\n",
        "    def sum(x: int, y: int) -> int:\n",
        "      if type(x) == int && type(y) == int:\n",
        "        return x + y;\n",
        "\n",
        "    Linguagem: Java\n",
        "\n",
        "  Resposta:\n",
        "    public Integer sum(Integer x, Integer y) {\n",
        "      if (x instanceOf Integer && y instanceOf Integer) {\n",
        "        return x + y;\n",
        "      }\n",
        "    }\n",
        "\n",
        "\n",
        "\"\"\"\n",
        "prompt = input(\"Esperando o prompt...\")\n",
        "\n",
        "while prompt != \"fim\":\n",
        "  chat.send_message(system)\n",
        "  response = chat.send_message(prompt)\n",
        "  print(response.text)\n",
        "  prompt = input(\"Esperando o prompt...\")"
      ]
    }
  ],
  "metadata": {
    "colab": {
      "provenance": [],
      "authorship_tag": "ABX9TyNSn6QPDF/4m9uYYbzaaHzQ",
      "include_colab_link": true
    },
    "kernelspec": {
      "display_name": "Python 3",
      "name": "python3"
    },
    "language_info": {
      "name": "python"
    }
  },
  "nbformat": 4,
  "nbformat_minor": 0
}